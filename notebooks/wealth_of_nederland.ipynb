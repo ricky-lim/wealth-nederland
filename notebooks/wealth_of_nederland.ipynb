{
 "cells": [
  {
   "cell_type": "code",
   "execution_count": null,
   "id": "a68342b5",
   "metadata": {},
   "outputs": [],
   "source": [
    "# %load_ext autoreload\n",
    "# %autoreload 2"
   ]
  },
  {
   "cell_type": "code",
   "execution_count": null,
   "id": "d7f22f80",
   "metadata": {
    "lines_to_next_cell": 2
   },
   "outputs": [],
   "source": [
    "from pyprojroot import here\n",
    "\n",
    "from src.app.dashboard import Dashboard\n",
    "from src.data.geomap import parse_provinces\n",
    "from src.data.income import Income"
   ]
  },
  {
   "cell_type": "code",
   "execution_count": null,
   "id": "66f29339",
   "metadata": {},
   "outputs": [],
   "source": [
    "NL_MAP = here() / \"data\" / \"processed\" / \"nl_provinces_with_id.geojson\"\n",
    "NL_INCOME = here() / \"data\" / \"raw\" / \"71103ENG.csv\""
   ]
  },
  {
   "cell_type": "code",
   "execution_count": null,
   "id": "b2395859",
   "metadata": {},
   "outputs": [],
   "source": [
    "nl_provinces = parse_provinces(NL_MAP)\n",
    "nl_income = Income(input_file=NL_INCOME, province_id_to_name=nl_provinces)\n",
    "clean_nl_income = nl_income.clean()"
   ]
  },
  {
   "cell_type": "code",
   "execution_count": null,
   "id": "2f7d6850",
   "metadata": {},
   "outputs": [],
   "source": [
    "d = Dashboard(df=clean_nl_income, map_file=NL_MAP, province_id_to_name=nl_provinces)\n",
    "d.build()"
   ]
  }
 ],
 "metadata": {
  "kernelspec": {
   "display_name": "wealth-nederland",
   "language": "python",
   "name": "wealth-nederland"
  }
 },
 "nbformat": 4,
 "nbformat_minor": 5
}
