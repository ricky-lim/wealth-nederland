{
 "cells": [
  {
   "cell_type": "code",
   "execution_count": 1,
   "metadata": {},
   "outputs": [],
   "source": [
    "import requests\n",
    "import pandas as pd\n",
    "# Library to extract the statistics data \n",
    "import cbsodata\n",
    "import json\n",
    "import os\n",
    "\n",
    "\n",
    "from ipywidgets import VBox, HBox, IntSlider, Layout, jslink, Play\n",
    "from pathlib import Path\n",
    "from typing import Dict, List\n",
    "from bqplot import Mercator, Map, topo_load, Figure, \\\n",
    "    Tooltip, ColorScale, ColorAxis, Lines, LinearScale, Axis\n",
    "\n",
    "\n",
    "PROVINCE_ID = int\n",
    "NORMALIZED_INCOME = float"
   ]
  },
  {
   "cell_type": "code",
   "execution_count": 2,
   "metadata": {},
   "outputs": [],
   "source": [
    "# Input Netherlands map is from https://www.webuildinternet.com/articles/2015-07-19-geojson-data-of-the-netherlands/provinces.geojson\n",
    "\n",
    "def add_feature_id(input_geojson: Path, output_geojson: Path) -> Dict[int, str]:\n",
    "    \"\"\"\n",
    "    Add id for every feature of a geojson file and \n",
    "    Return a dict of id and its feature name\n",
    "    \"\"\"\n",
    "\n",
    "    with open(input_geojson, \"rt\") as in_f:\n",
    "        features = []\n",
    "        id_to_name = {}\n",
    "        input_geodict = json.load(in_f)\n",
    "        for idx, feature in enumerate(input_geodict['features'], start=1):\n",
    "            feature[\"id\"] = idx\n",
    "            id_to_name[idx] = feature['properties']['name']\n",
    "            features.append(feature)\n",
    "            \n",
    "    with open(output_geojson, \"wt\") as out_f:\n",
    "        json.dump({'features': features}, out_f)\n",
    "        \n",
    "    return id_to_name\n",
    "                    \n",
    "province_id_to_name = add_feature_id(input_geojson=\"data/provinces.geojson\",\n",
    "                                     output_geojson=\"data/provinces_with_id.geojson\")\n",
    "province_id_to_name\n",
    "province_name_to_id =  {v: k for k, v in province_id_to_name.items()}"
   ]
  },
  {
   "cell_type": "code",
   "execution_count": 3,
   "metadata": {},
   "outputs": [],
   "source": [
    "def get_nl_provinces(province_geojson: Path) -> List[str]:\n",
    "    with open(province_geojson, \"rt\") as in_f:\n",
    "        province_dict = json.load(in_f)\n",
    "        \n",
    "    provinces = [province_feature['properties']['name'] \n",
    "                 for province_feature in province_dict['features']]\n",
    "    return provinces\n",
    "\n",
    "\n",
    "PROVINCE_GEOJSON = Path.cwd() / \"data/provinces_with_id.geojson\"\n",
    "NL_PROVINCES = get_nl_provinces(PROVINCE_GEOJSON)"
   ]
  },
  {
   "cell_type": "code",
   "execution_count": 4,
   "metadata": {},
   "outputs": [],
   "source": [
    "def get_income_data(data_id:str, output_file: Path) -> pd.DataFrame:\n",
    "    if Path(output_file).exists() and os.path.getsize(str(output_file)):\n",
    "        return pd.read_csv(output_file)\n",
    "    \n",
    "    print(f\"Downloading data {data_id}\")\n",
    "    inkomen_data = pd.DataFrame(cbsodata.get_data(data_id))\n",
    "    province_data = inkomen_data[inkomen_data['Region'].isin(NL_PROVINCES)]\n",
    "    assert len(province_data[\"Region\"].unique()) == 12 # There are 12 provinces in NL\n",
    "    households_total = province_data[province_data[\"Households\"] == 'Households, total']\n",
    "\n",
    "    income = households_total[[\"Region\", \"Period\", \"MixedIncomeNet_1\"]]\n",
    "    # Assign province_id\n",
    "    income = income.assign(province_id=income[\"Region\"].map(province_name_to_id))\n",
    "    income[\"Period\"] = income[\"Period\"].astype(int)\n",
    "\n",
    "    income = income.rename(columns={'Region': 'province_name', \n",
    "                                    'Period': 'period', \n",
    "                                    'MixedIncomeNet_1': 'income'})\n",
    "\n",
    "    with open(output_file, \"wt\") as out_f:\n",
    "        income.to_csv(out_f, index=False)\n",
    "        \n",
    "    return income\n",
    "    "
   ]
  },
  {
   "cell_type": "code",
   "execution_count": 5,
   "metadata": {},
   "outputs": [],
   "source": [
    "INCOME_DATA = get_income_data(\"71103ENG\", \"data/income.csv\")"
   ]
  },
  {
   "cell_type": "code",
   "execution_count": 6,
   "metadata": {},
   "outputs": [],
   "source": [
    "# INCOME_DATA.head()"
   ]
  },
  {
   "cell_type": "code",
   "execution_count": 7,
   "metadata": {},
   "outputs": [],
   "source": [
    "YEARLY_INCOME = INCOME_DATA.pivot(index='province_id', columns='period')[['income']]\n",
    "YEARLY_INCOME.columns = YEARLY_INCOME.columns.droplevel()\n",
    "\n",
    "# YEARLY_INCOME.head()"
   ]
  },
  {
   "cell_type": "code",
   "execution_count": 8,
   "metadata": {},
   "outputs": [],
   "source": [
    "def get_id_to_income(year: int) -> Dict[PROVINCE_ID, NORMALIZED_INCOME]:\n",
    "    is_within_year = INCOME_DATA[\"period\"] == year\n",
    "    yearly_income = INCOME_DATA[is_within_year]\n",
    "    normalized_income = yearly_income[\"income\"] / sum(yearly_income[\"income\"])\n",
    "    id_to_income = dict(zip(yearly_income[\"province_id\"], normalized_income))\n",
    "    return id_to_income\n",
    "    \n",
    "    "
   ]
  },
  {
   "cell_type": "code",
   "execution_count": 9,
   "metadata": {},
   "outputs": [],
   "source": [
    "most_recent_id_to_income = get_id_to_income(1995)\n",
    "# most_recent_id_to_income"
   ]
  },
  {
   "cell_type": "code",
   "execution_count": 10,
   "metadata": {},
   "outputs": [
    {
     "data": {
      "application/vnd.jupyter.widget-view+json": {
       "model_id": "d3dce5cbc0ff4f199b77e92f61e28cfd",
       "version_major": 2,
       "version_minor": 0
      },
      "text/plain": [
       "VBox(children=(HBox(children=(Play(value=1995, interval=1000, layout=Layout(width='100%'), max=2001, min=1995)…"
      ]
     },
     "metadata": {},
     "output_type": "display_data"
    }
   ],
   "source": [
    "# Generate income distribution per province in NL\n",
    "\n",
    "sc_geo = Mercator(scale_factor=7000, center=(5.5, 53.0))\n",
    "tooltip = Tooltip(fields=['name'], labels=['province'])\n",
    "col_scale = ColorScale()\n",
    "ax_col = ColorAxis(scale=col_scale, label=\"ratio\", visible=True)\n",
    "nl_map = Map(map_data=topo_load(PROVINCE_GEOJSON),\n",
    "             scales={'projection': sc_geo, 'color': col_scale},\n",
    "             colors={'default_color': 'Grey'},\n",
    "             color=most_recent_id_to_income,\n",
    "             tooltip=tooltip,\n",
    "             interactions={'click': 'select', 'hover': 'tooltip'},\n",
    "             visible=True)\n",
    "nl_fig = Figure(marks=[nl_map], axes=[ax_col], title='Wealth of The Netherlands',\n",
    "               layout={\n",
    "                   'min_width': '400px', 'width': 'auto',\n",
    "                   'min_height': '400px', 'width': 'auto'\n",
    "               })\n",
    "\n",
    "\n",
    "def plot_yearly_income_per_province(*_):\n",
    "    if nl_map.selected is not None and len(nl_map.selected) > 0:\n",
    "        selected_provinces = nl_map.selected\n",
    "        province_yearly_income_plot.y = YEARLY_INCOME.loc[selected_provinces]\n",
    "        province_yearly_income_plot.labels = [province_id_to_name[province_id] \n",
    "                                      for province_id in selected_provinces]\n",
    "    else:\n",
    "        province_yearly_income_plot.labels = []\n",
    "        province_yearly_income_plot.y = []\n",
    "  \n",
    "    \n",
    "nl_map.observe(plot_yearly_income_per_province, 'selected')\n",
    "\n",
    "\n",
    "sc_x = LinearScale()\n",
    "sc_y = LinearScale()\n",
    "ax_x = Axis(scale=sc_x, label='Index')\n",
    "ax_y = Axis(scale=sc_y, orientation='vertical', label='Thousands (Euro)')\n",
    "province_yearly_income_plot = Lines(x=list(YEARLY_INCOME.columns), y=[],\n",
    "                                    scales={'x': sc_x, 'y': sc_y},\n",
    "                                 \n",
    "                                    display_legend=True)\n",
    "province_yearly_income_fig = Figure(marks=[province_yearly_income_plot], \n",
    "                                    axes=[ax_x, ax_y], title='Income per Year',\n",
    "                                    layout={\n",
    "                                        'min_width': '400px', 'width': 'auto',\n",
    "                                        'min_height': '400px', 'height': 'auto'\n",
    "                                    })\n",
    "\n",
    "\n",
    "year_slider = IntSlider(description='year', min=1995, max=2001, \n",
    "                        continuous_update=False,\n",
    "                        layout=Layout(width='100%'))\n",
    "\n",
    "def update_income(*_):\n",
    "    year = year_slider.value\n",
    "    id_to_income = get_id_to_income(year)\n",
    "    nl_map_color_scale = nl_map.scales['color']\n",
    "    nl_map_color_scale.min = min(id_to_income.values())\n",
    "    nl_map_color_scale.max = max(id_to_income.values())\n",
    "    nl_map.color = id_to_income\n",
    "    \n",
    "    \n",
    "year_slider.observe(update_income, 'value')\n",
    "play_button = Play(min=1995, max=2001, interval=1000, layout=Layout(width='100%'))\n",
    "jslink((play_button, 'value'), (year_slider, 'value'))\n",
    "\n",
    "VBox([\n",
    "    HBox([play_button, year_slider]), \n",
    "    nl_fig,\n",
    "    province_yearly_income_fig\n",
    "]) \n"
   ]
  }
 ],
 "metadata": {
  "kernelspec": {
   "display_name": "Python 3",
   "language": "python",
   "name": "python3"
  },
  "language_info": {
   "codemirror_mode": {
    "name": "ipython",
    "version": 3
   },
   "file_extension": ".py",
   "mimetype": "text/x-python",
   "name": "python",
   "nbconvert_exporter": "python",
   "pygments_lexer": "ipython3",
   "version": "3.7.3"
  }
 },
 "nbformat": 4,
 "nbformat_minor": 2
}
